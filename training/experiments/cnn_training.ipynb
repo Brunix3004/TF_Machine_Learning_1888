{
 "cells": [
  {
   "cell_type": "code",
   "execution_count": null,
   "id": "041e5164",
   "metadata": {},
   "outputs": [],
   "source": [
    "#Agregamos celda nuevo para uso de imagenes + labels txt\n",
    "from torch.utils.data import Dataset\n",
    "from PIL import Image\n",
    "import os\n",
    "\n",
    "class YOLOClassificationDataset(Dataset):\n",
    "    def __init__(self, images_dir, labels_dir, transform=None):\n",
    "        self.images_dir = images_dir\n",
    "        self.labels_dir = labels_dir\n",
    "        self.transform = transform\n",
    "        self.image_files = [f for f in os.listdir(images_dir) if f.endswith(\".jpg\")]\n",
    "    \n",
    "    def __len__(self):\n",
    "        return len(self.image_files)\n",
    "    \n",
    "    def __getitem__(self, idx):\n",
    "        img_file = self.image_files[idx]\n",
    "        img_path = os.path.join(self.images_dir, img_file)\n",
    "        label_path = os.path.join(self.labels_dir, img_file.replace(\".jpg\", \".txt\"))\n",
    "        \n",
    "        # Cargar imagen\n",
    "        image = Image.open(img_path).convert(\"RGB\")\n",
    "        \n",
    "        # Leer etiqueta (primer número del archivo txt)\n",
    "        with open(label_path, \"r\") as f:\n",
    "            first_line = f.readline().strip()\n",
    "            class_id = int(first_line.split()[0])\n",
    "        \n",
    "        if self.transform:\n",
    "            image = self.transform(image)\n",
    "        \n",
    "        return image, class_id\n"
   ]
  },
  {
   "cell_type": "code",
   "execution_count": null,
   "id": "6be479da",
   "metadata": {},
   "outputs": [
    {
     "name": "stdout",
     "output_type": "stream",
     "text": [
      "Clase: 0\n",
      "Imagen tensor shape: torch.Size([3, 128, 128])\n"
     ]
    }
   ],
   "source": [
    "# Ejemplo de uso\n",
    "transform = transforms.Compose([\n",
    "    transforms.Resize((128, 128)),\n",
    "    transforms.ToTensor(),\n",
    "    transforms.Normalize((0.5,), (0.5,))\n",
    "])\n",
    "\n",
    "train_dataset = YOLOClassificationDataset(\n",
    "    images_dir=\"../../datasets/processed/images/train/images\",\n",
    "    labels_dir=\"../../datasets/processed/images/train/labels\",\n",
    "    transform=transform\n",
    ")\n",
    "\n",
    "img, label = train_dataset[0]\n",
    "print(\"Clase:\", label)\n",
    "print(\"Imagen tensor shape:\", img.shape)"
   ]
  },
  {
   "cell_type": "markdown",
   "id": "db7644ba",
   "metadata": {},
   "source": [
    "***Iniciación de entrenamiento de modelo***"
   ]
  },
  {
   "cell_type": "code",
   "execution_count": null,
   "id": "3640c234",
   "metadata": {},
   "outputs": [],
   "source": [
    "import torch\n",
    "import torch.nn as nn\n",
    "import torch.optim as optim\n",
    "from torch.utils.data import DataLoader, Dataset\n",
    "from torchvision import transforms\n",
    "from PIL import Image\n",
    "import os\n",
    "import matplotlib.pyplot as plt"
   ]
  },
  {
   "cell_type": "code",
   "execution_count": null,
   "id": "84d96c67",
   "metadata": {},
   "outputs": [],
   "source": [
    "#Dataset personalizado\n",
    "class YOLOClassificationDataset(Dataset):\n",
    "    def __init__(self, images_dir, labels_dir, transform=None):\n",
    "        self.images_dir = images_dir\n",
    "        self.labels_dir = labels_dir\n",
    "        self.transform = transform\n",
    "        self.image_files = [f for f in os.listdir(images_dir) if f.endswith(\".jpg\")]\n",
    "    \n",
    "    def __len__(self):\n",
    "        return len(self.image_files)\n",
    "    \n",
    "    def __getitem__(self, idx):\n",
    "        img_file = self.image_files[idx]\n",
    "        img_path = os.path.join(self.images_dir, img_file)\n",
    "        label_path = os.path.join(self.labels_dir, img_file.replace(\".jpg\", \".txt\"))\n",
    "        \n",
    "        # Cargar imagen\n",
    "        image = Image.open(img_path).convert(\"RGB\")\n",
    "        \n",
    "        # Leer etiqueta\n",
    "        with open(label_path, \"r\") as f:\n",
    "            first_line = f.readline().strip()\n",
    "            class_id = int(first_line.split()[0])\n",
    "        \n",
    "        if self.transform:\n",
    "            image = self.transform(image)\n",
    "        \n",
    "        return image, class_id"
   ]
  },
  {
   "cell_type": "code",
   "execution_count": null,
   "id": "66c0ddc7",
   "metadata": {},
   "outputs": [
    {
     "name": "stdout",
     "output_type": "stream",
     "text": [
      "Usando dispositivo: cpu\n",
      "Train: 1468 imágenes\n",
      "Val: 164 imágenes\n"
     ]
    }
   ],
   "source": [
    "# Configuración\n",
    "data_dir = \"../../datasets/processed/images\"\n",
    "img_size = 128\n",
    "batch_size = 32\n",
    "epochs = 5\n",
    "lr = 0.001\n",
    "\n",
    "device = torch.device(\"cuda\" if torch.cuda.is_available() else \"cpu\")\n",
    "print(\"Usando dispositivo:\", device)\n",
    "\n",
    "transform = transforms.Compose([\n",
    "    transforms.Resize((img_size, img_size)),\n",
    "    transforms.ToTensor(),\n",
    "    transforms.Normalize((0.5,), (0.5,))\n",
    "])\n",
    "\n",
    "# Datasets\n",
    "train_dataset = YOLOClassificationDataset(\n",
    "    images_dir=f\"{data_dir}/train/images\",\n",
    "    labels_dir=f\"{data_dir}/train/labels\",\n",
    "    transform=transform\n",
    ")\n",
    "\n",
    "val_dataset = YOLOClassificationDataset(\n",
    "    images_dir=f\"{data_dir}/val/images\",\n",
    "    labels_dir=f\"{data_dir}/val/labels\",\n",
    "    transform=transform\n",
    ")\n",
    "\n",
    "train_loader = DataLoader(train_dataset, batch_size=batch_size, shuffle=True)\n",
    "val_loader = DataLoader(val_dataset, batch_size=batch_size, shuffle=False)\n",
    "\n",
    "print(f\"Train: {len(train_dataset)} imágenes\")\n",
    "print(f\"Val: {len(val_dataset)} imágenes\")"
   ]
  },
  {
   "cell_type": "code",
   "execution_count": null,
   "id": "12b04e82",
   "metadata": {},
   "outputs": [
    {
     "name": "stdout",
     "output_type": "stream",
     "text": [
      "CNNBaseline(\n",
      "  (conv1): Conv2d(3, 32, kernel_size=(3, 3), stride=(1, 1), padding=(1, 1))\n",
      "  (conv2): Conv2d(32, 64, kernel_size=(3, 3), stride=(1, 1), padding=(1, 1))\n",
      "  (pool): MaxPool2d(kernel_size=2, stride=2, padding=0, dilation=1, ceil_mode=False)\n",
      "  (fc1): Linear(in_features=65536, out_features=128, bias=True)\n",
      "  (fc2): Linear(in_features=128, out_features=2, bias=True)\n",
      ")\n"
     ]
    }
   ],
   "source": [
    "# Modelo CNN simple\n",
    "class CNNBaseline(nn.Module):\n",
    "    def __init__(self, num_classes=2):  #ajusta num_classes según tu dataset\n",
    "        super(CNNBaseline, self).__init__()\n",
    "        self.conv1 = nn.Conv2d(3, 32, 3, padding=1)\n",
    "        self.conv2 = nn.Conv2d(32, 64, 3, padding=1)\n",
    "        self.pool = nn.MaxPool2d(2, 2)\n",
    "        self.fc1 = nn.Linear(64 * (img_size//4) * (img_size//4), 128)\n",
    "        self.fc2 = nn.Linear(128, num_classes)\n",
    "\n",
    "    def forward(self, x):\n",
    "        x = self.pool(torch.relu(self.conv1(x)))\n",
    "        x = self.pool(torch.relu(self.conv2(x)))\n",
    "        x = x.view(x.size(0), -1)\n",
    "        x = torch.relu(self.fc1(x))\n",
    "        x = self.fc2(x)\n",
    "        return x\n",
    "\n",
    "# ⚠️ Cambia num_classes al número real de clases\n",
    "model = CNNBaseline(num_classes=2).to(device)\n",
    "print(model)"
   ]
  },
  {
   "cell_type": "code",
   "execution_count": null,
   "id": "8624bc5b",
   "metadata": {},
   "outputs": [],
   "source": [
    "#Perdida y optimizador\n",
    "criterion = nn.CrossEntropyLoss()\n",
    "optimizer = optim.Adam(model.parameters(), lr=lr)"
   ]
  },
  {
   "cell_type": "code",
   "execution_count": null,
   "id": "4d101e6e",
   "metadata": {},
   "outputs": [
    {
     "name": "stdout",
     "output_type": "stream",
     "text": [
      "Epoch 1/5, Loss: 0.6735\n",
      "Epoch 2/5, Loss: 0.6675\n",
      "Epoch 3/5, Loss: 0.6631\n",
      "Epoch 4/5, Loss: 0.6477\n",
      "Epoch 5/5, Loss: 0.6201\n"
     ]
    }
   ],
   "source": [
    "# Entrenamiento\n",
    "train_losses = []\n",
    "\n",
    "for epoch in range(epochs):\n",
    "    model.train()\n",
    "    running_loss = 0.0\n",
    "    \n",
    "    for images, labels in train_loader:\n",
    "        images, labels = images.to(device), labels.to(device)\n",
    "        \n",
    "        optimizer.zero_grad()\n",
    "        outputs = model(images)\n",
    "        loss = criterion(outputs, labels)\n",
    "        loss.backward()\n",
    "        optimizer.step()\n",
    "        \n",
    "        running_loss += loss.item()\n",
    "    \n",
    "    epoch_loss = running_loss / len(train_loader)\n",
    "    train_losses.append(epoch_loss)\n",
    "    print(f\"Epoch {epoch+1}/{epochs}, Loss: {epoch_loss:.4f}\")"
   ]
  },
  {
   "cell_type": "code",
   "execution_count": null,
   "id": "ce78c8c8",
   "metadata": {},
   "outputs": [
    {
     "data": {
      "image/png": "[encoded data removed]",
      "text/plain": [
       "<Figure size 640x480 with 1 Axes>"
      ]
     },
     "metadata": {},
     "output_type": "display_data"
    }
   ],
   "source": [
    "# Gráficar la pérdida de entrenamiento\n",
    "plt.plot(range(1, epochs+1), train_losses, marker='o')\n",
    "plt.xlabel(\"Epoch\")\n",
    "plt.ylabel(\"Training Loss\")\n",
    "plt.title(\"Curva de pérdida durante el entrenamiento\")\n",
    "plt.show()"
   ]
  },
  {
   "cell_type": "code",
   "execution_count": null,
   "id": "71c3038d",
   "metadata": {},
   "outputs": [
    {
     "name": "stdout",
     "output_type": "stream",
     "text": [
      "✅ Modelo guardado en: ../../models/saved/cnn_baseline.pth\n"
     ]
    }
   ],
   "source": [
    "# Guardar el modelo\n",
    "torch.save(model.state_dict(), \"../../models/saved/cnn_baseline.pth\")\n",
    "print(\"✅ Modelo guardado en: ../../models/saved/cnn_baseline.pth\")"
   ]
  }
 ],
 "metadata": {
  "kernelspec": {
   "display_name": "Python 3",
   "language": "python",
   "name": "python3"
  },
  "language_info": {
   "codemirror_mode": {
    "name": "ipython",
    "version": 3
   },
   "file_extension": ".py",
   "mimetype": "text/x-python",
   "name": "python",
   "nbconvert_exporter": "python",
   "pygments_lexer": "ipython3",
   "version": "3.12.10"
  }
 },
 "nbformat": 4,
 "nbformat_minor": 5
}
